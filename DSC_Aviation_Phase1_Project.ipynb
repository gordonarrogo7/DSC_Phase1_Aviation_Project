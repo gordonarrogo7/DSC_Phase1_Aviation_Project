{
 "cells": [
  {
   "cell_type": "markdown",
   "id": "6d0c14d4",
   "metadata": {},
   "source": [
    "\n",
    "# DSC Phase 1 Project: Aviation Data Analysis"
   ]
  },
  {
   "cell_type": "markdown",
   "id": "eeb302da",
   "metadata": {},
   "source": [
    "## 1. Business Understanding\n",
    "The goal of this analysis is to investigate aviation accident data to uncover trends, identify risk factors, and propose recommendations for improving aviation safety in the United States."
   ]
  },
  {
   "cell_type": "markdown",
   "id": "5e68d3ef",
   "metadata": {},
   "source": [
    "## 2. Data Understanding\n",
    "We'll begin by loading and inspecting the aviation data and U.S. state codes."
   ]
  },
  {
   "cell_type": "code",
   "execution_count": null,
   "id": "588da4f9",
   "metadata": {},
   "outputs": [],
   "source": [
    "import pandas as pd"
   ]
  },
  {
   "cell_type": "markdown",
   "id": "7c2ddc54",
   "metadata": {},
   "source": [
    "aviation_df = pd.read_csv(\"AviationData.csv\", encoding=\"ISO-8859-1\")\n",
    "state_codes_df = pd.read_csv(\"USState_Codes.csv\")"
   ]
  },
  {
   "cell_type": "markdown",
   "id": "e91a2e91",
   "metadata": {},
   "source": [
    "aviation_df.head()\n",
    "```"
   ]
  },
  {
   "cell_type": "markdown",
   "id": "bd9fc0b2",
   "metadata": {},
   "source": [
    "## 3. Data Cleaning\n",
    "We'll parse dates, handle missing values, and extract useful information such as state names from the location."
   ]
  },
  {
   "cell_type": "code",
   "execution_count": null,
   "id": "96e51588",
   "metadata": {},
   "outputs": [],
   "source": [
    "aviation_df['Event.Date'] = pd.to_datetime(aviation_df['Event.Date'], errors='coerce')\n",
    "aviation_df['State'] = aviation_df['Location'].str.extract(r',\\s*([A-Z]{2})')\n",
    "aviation_df = aviation_df[aviation_df['Country'] == 'United States']\n",
    "aviation_df.dropna(subset=['Event.Date', 'State'], inplace=True)\n",
    "aviation_df.reset_index(drop=True, inplace=True)"
   ]
  },
  {
   "cell_type": "markdown",
   "id": "cad060ea",
   "metadata": {},
   "source": [
    "## 4. Exploratory Data Analysis\n",
    "### Accidents per Year"
   ]
  },
  {
   "cell_type": "code",
   "execution_count": null,
   "id": "88804966",
   "metadata": {},
   "outputs": [],
   "source": [
    "aviation_df['Year'] = aviation_df['Event.Date'].dt.year\n",
    "accidents_per_year = aviation_df['Year'].value_counts().sort_index()"
   ]
  },
  {
   "cell_type": "markdown",
   "id": "8baa869b",
   "metadata": {},
   "source": [
    "import matplotlib.pyplot as plt\n",
    "plt.figure(figsize=(12,6))\n",
    "accidents_per_year.plot(kind='bar')\n",
    "plt.title(\"Accidents Per Year\")\n",
    "plt.xlabel(\"Year\")\n",
    "plt.ylabel(\"Number of Accidents\")\n",
    "plt.tight_layout()\n",
    "plt.show()\n",
    "```"
   ]
  },
  {
   "cell_type": "markdown",
   "id": "068e9304",
   "metadata": {},
   "source": [
    "### Most Common States for Accidents"
   ]
  },
  {
   "cell_type": "code",
   "execution_count": null,
   "id": "7321acb9",
   "metadata": {},
   "outputs": [],
   "source": [
    "state_counts = aviation_df['State'].value_counts().head(10)\n",
    "state_counts.plot(kind='bar', color='orange')\n",
    "plt.title(\"Top 10 States with Most Accidents\")\n",
    "plt.xlabel(\"State\")\n",
    "plt.ylabel(\"Number of Accidents\")\n",
    "plt.tight_layout()\n",
    "plt.show()"
   ]
  },
  {
   "cell_type": "markdown",
   "id": "7d8827de",
   "metadata": {},
   "source": [
    "### Fatal Injuries Distribution"
   ]
  },
  {
   "cell_type": "code",
   "execution_count": null,
   "id": "8366a4cf",
   "metadata": {},
   "outputs": [],
   "source": [
    "aviation_df['Total.Fatal.Injuries'] = pd.to_numeric(aviation_df['Total.Fatal.Injuries'], errors='coerce')\n",
    "aviation_df['Total.Fatal.Injuries'].hist(bins=20, figsize=(10,5))\n",
    "plt.title(\"Distribution of Fatal Injuries\")\n",
    "plt.xlabel(\"Number of Fatal Injuries\")\n",
    "plt.ylabel(\"Frequency\")\n",
    "plt.tight_layout()\n",
    "plt.show()"
   ]
  },
  {
   "cell_type": "markdown",
   "id": "8415be24",
   "metadata": {},
   "source": [
    "## 5. Key Insights\n",
    "- Certain years and states experience higher frequencies of accidents.\n",
    "- Most accidents result in few or no fatalities.\n",
    "- Weather and flight phase could be explored further for correlation with accident severity."
   ]
  },
  {
   "cell_type": "markdown",
   "id": "c8c20c7f",
   "metadata": {},
   "source": [
    "## 6. Recommendations\n",
    "- Improve pilot training in states with high accident counts.\n",
    "- Monitor high-risk phases of flight (e.g., takeoff, landing).\n",
    "- Enhance weather forecasting and decision-making support."
   ]
  },
  {
   "cell_type": "markdown",
   "id": "45453b7c",
   "metadata": {},
   "source": [
    "## 7. Conclusion\n",
    "This project demonstrates how aviation accident data can be used to identify patterns and inform safety improvements.\n"
   ]
  }
 ],
 "metadata": {},
 "nbformat": 4,
 "nbformat_minor": 5
}
