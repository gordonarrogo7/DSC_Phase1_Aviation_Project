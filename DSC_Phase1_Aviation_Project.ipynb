{
 "cells": [
  {
   "cell_type": "markdown",
   "id": "f3f51c09",
   "metadata": {},
   "source": [
    "\n",
    
    "\n",
    
   ]
  },
  {
   "cell_type": "code",
   "execution_count": null,
   "id": "2796be92",
   "metadata": {},
   "outputs": [],
   "source": [
    "\n",
    "import pandas as pd\n",
    "import matplotlib.pyplot as plt\n",
    "import seaborn as sns\n",
    "\n",
    "# Load datasets\n",
    "aviation_df = pd.read_csv(\"AviationData.csv\", encoding='latin1', low_memory=False)\n",
    "state_codes_df = pd.read_csv(\"USState_Codes.csv\")\n",
    "\n",
    "# Drop columns with too many missing values and inspect remaining\n",
    "aviation_df_clean = aviation_df.dropna(axis=1, thresh=aviation_df.shape[0] * 0.5)\n",
    "\n",
    "# Parse date\n",
    "aviation_df_clean['Event.Date'] = pd.to_datetime(aviation_df_clean['Event.Date'], errors='coerce')\n",
    "\n",
    "# Extract state from 'Location'\n",
    "aviation_df_clean['State'] = aviation_df_clean['Location'].str.extract(r',\\s*([A-Z]{2})$')\n",
    "\n",
    "# Inspect cleaned data\n",
    "aviation_df_clean[['Event.Date', 'Location', 'State']].head()\n"
   ]
  },
  {
   "cell_type": "code",
   "execution_count": null,
   "id": "ce41564a",
   "metadata": {},
   "outputs": [],
   "source": [
    "\n",
    "# Merge with state codes for clarity\n",
    "merged_df = pd.merge(aviation_df_clean, state_codes_df, how='left', left_on='State', right_on='Abbreviation')\n",
    "\n",
    "# Drop unnecessary columns\n",
    "merged_df = merged_df.drop(columns=['Abbreviation'])\n",
    "\n",
    "# Check merged data\n",
    "merged_df[['Location', 'State', 'US_State']].head()\n"
   ]
  },
  {
   "cell_type": "code",
   "execution_count": null,
   "id": "25cbf714",
   "metadata": {},
   "outputs": [],
   "source": [
    "\n",
    "# Fatal injuries by weather condition\n",
    "fatal_weather = merged_df.groupby('Weather.Condition')['Total.Fatal.Injuries'].sum().dropna().sort_values(ascending=False)\n",
    "fatal_weather.plot(kind='bar', title='Fatal Injuries by Weather Condition', figsize=(8,4), color='tomato')\n",
    "plt.ylabel('Total Fatal Injuries')\n",
    "plt.xlabel('Weather Condition')\n",
    "plt.tight_layout()\n",
    "plt.show()\n",
    "\n",
    "# Accidents by phase of flight\n",
    "flight_phase = merged_df['Broad.phase.of.flight'].value_counts().head(10)\n",
    "sns.barplot(x=flight_phase.values, y=flight_phase.index, palette='viridis')\n",
    "plt.title('Top Phases of Flight Involved in Accidents')\n",
    "plt.xlabel('Number of Accidents')\n",
    "plt.ylabel('Flight Phase')\n",
    "plt.tight_layout()\n",
    "plt.show()\n",
    "\n",
    "# States with most fatal injuries\n",
    "state_fatal = merged_df.groupby('US_State')['Total.Fatal.Injuries'].sum().dropna().sort_values(ascending=False).head(10)\n",
    "state_fatal.plot(kind='barh', title='Top 10 States by Fatal Injuries', color='crimson')\n",
    "plt.xlabel('Fatal Injuries')\n",
    "plt.ylabel('State')\n",
    "plt.tight_layout()\n",
    "plt.show()\n"
   ]
  },
  {
   "cell_type": "markdown",
   "id": "d3599810",
   "metadata": {},
   "source": [
    "\n",
    "## Conclusions\n",
    "\n",
    "- **Weather Conditions**: Most fatal injuries occurred during Visual Meteorological Conditions (VMC), possibly due to frequency of flying in such conditions.\n",
    "- **Flight Phases**: The majority of accidents occur during the **landing and approach phases**, highlighting the need for safety during these critical stages.\n",
    "- **State-Level Trends**: States like **California, Texas, and Alaska** experience the highest number of fatal injuries, possibly due to higher flight activity or challenging terrains.\n",
    "\n",
    "These insights can inform policies and training priorities to enhance flight safety.\n"
   ]
  }
 ],
 "metadata": {},
 "nbformat": 4,
 "nbformat_minor": 5
}
